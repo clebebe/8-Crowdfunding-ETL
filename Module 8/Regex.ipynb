{
 "cells": [
  {
   "cell_type": "code",
   "execution_count": 2,
   "id": "ba2aadfa",
   "metadata": {},
   "outputs": [],
   "source": [
    "import json\n",
    "import pandas as pd\n",
    "import regex as re"
   ]
  },
  {
   "cell_type": "code",
   "execution_count": 3,
   "id": "4bfdc824",
   "metadata": {},
   "outputs": [
    {
     "name": "stdout",
     "output_type": "stream",
     "text": [
      "[4661, 'Cecilia Velasco', 'cecilia.velasco@rodrigues.fr']\n"
     ]
    }
   ],
   "source": [
    "data = \"{'contact_id': 4661, 'name': 'Cecilia Velasco', 'email': 'cecilia.velasco@rodrigues.fr'}\"\n",
    "data = data.replace(\"'\",'\"')\n",
    "#convert to dictionary\n",
    "converted_data = json.loads(data)\n",
    "\n",
    "#iterate through dictionary (row) and get values\n",
    "row_values = [v for k, v in converted_data.items()]\n",
    "print(row_values)"
   ]
  },
  {
   "cell_type": "code",
   "execution_count": 4,
   "id": "23a9399e",
   "metadata": {},
   "outputs": [],
   "source": [
    "string_data = \"contact_id 4661 name Cecilia Velasco email cecilia.velasco@rodrigues.fr\""
   ]
  },
  {
   "cell_type": "code",
   "execution_count": 5,
   "id": "350ed674",
   "metadata": {},
   "outputs": [
    {
     "name": "stdout",
     "output_type": "stream",
     "text": [
      "['4661']\n"
     ]
    }
   ],
   "source": [
    "#extract 4 digits\n",
    "contact_id = re.findall(r'(\\d{4})', string_data)\n",
    "print(contact_id)"
   ]
  },
  {
   "cell_type": "code",
   "execution_count": 12,
   "id": "15a0c079",
   "metadata": {},
   "outputs": [
    {
     "data": {
      "text/html": [
       "<div>\n",
       "<style scoped>\n",
       "    .dataframe tbody tr th:only-of-type {\n",
       "        vertical-align: middle;\n",
       "    }\n",
       "\n",
       "    .dataframe tbody tr th {\n",
       "        vertical-align: top;\n",
       "    }\n",
       "\n",
       "    .dataframe thead th {\n",
       "        text-align: right;\n",
       "    }\n",
       "</style>\n",
       "<table border=\"1\" class=\"dataframe\">\n",
       "  <thead>\n",
       "    <tr style=\"text-align: right;\">\n",
       "      <th></th>\n",
       "      <th>contact_info</th>\n",
       "    </tr>\n",
       "  </thead>\n",
       "  <tbody>\n",
       "    <tr>\n",
       "      <th>0</th>\n",
       "      <td>contact_id 4661 name Cecilia Velasco email cecilia.velasco@rodrigues.fr</td>\n",
       "    </tr>\n",
       "    <tr>\n",
       "      <th>1</th>\n",
       "      <td>contact_id 3765 name Mariana Ellis email mariana.ellis@rossi.org</td>\n",
       "    </tr>\n",
       "    <tr>\n",
       "      <th>2</th>\n",
       "      <td>contact_id 4187 name Sofie Woods email sofie.woods@riviere.com</td>\n",
       "    </tr>\n",
       "    <tr>\n",
       "      <th>3</th>\n",
       "      <td>contact_id 4941 name Jeanette Iannotti email jeanette.iannotti@yahoo.com</td>\n",
       "    </tr>\n",
       "    <tr>\n",
       "      <th>4</th>\n",
       "      <td>contact_id 2199 name Samuel Sorgatz email samuel.sorgatz@gmail.com</td>\n",
       "    </tr>\n",
       "  </tbody>\n",
       "</table>\n",
       "</div>"
      ],
      "text/plain": [
       "                                                               contact_info\n",
       "0   contact_id 4661 name Cecilia Velasco email cecilia.velasco@rodrigues.fr\n",
       "1          contact_id 3765 name Mariana Ellis email mariana.ellis@rossi.org\n",
       "2            contact_id 4187 name Sofie Woods email sofie.woods@riviere.com\n",
       "3  contact_id 4941 name Jeanette Iannotti email jeanette.iannotti@yahoo.com\n",
       "4        contact_id 2199 name Samuel Sorgatz email samuel.sorgatz@gmail.com"
      ]
     },
     "execution_count": 12,
     "metadata": {},
     "output_type": "execute_result"
    }
   ],
   "source": [
    "pd.set_option('max_colwidth',200)\n",
    "contact = pd.read_csv('contacts_string_data.csv')\n",
    "contact.head()"
   ]
  },
  {
   "cell_type": "code",
   "execution_count": 15,
   "id": "934f99a4",
   "metadata": {},
   "outputs": [
    {
     "data": {
      "text/html": [
       "<div>\n",
       "<style scoped>\n",
       "    .dataframe tbody tr th:only-of-type {\n",
       "        vertical-align: middle;\n",
       "    }\n",
       "\n",
       "    .dataframe tbody tr th {\n",
       "        vertical-align: top;\n",
       "    }\n",
       "\n",
       "    .dataframe thead th {\n",
       "        text-align: right;\n",
       "    }\n",
       "</style>\n",
       "<table border=\"1\" class=\"dataframe\">\n",
       "  <thead>\n",
       "    <tr style=\"text-align: right;\">\n",
       "      <th></th>\n",
       "      <th>contact_info</th>\n",
       "      <th>contact_id</th>\n",
       "    </tr>\n",
       "  </thead>\n",
       "  <tbody>\n",
       "    <tr>\n",
       "      <th>0</th>\n",
       "      <td>contact_id 4661 name Cecilia Velasco email cecilia.velasco@rodrigues.fr</td>\n",
       "      <td>4661</td>\n",
       "    </tr>\n",
       "    <tr>\n",
       "      <th>1</th>\n",
       "      <td>contact_id 3765 name Mariana Ellis email mariana.ellis@rossi.org</td>\n",
       "      <td>3765</td>\n",
       "    </tr>\n",
       "    <tr>\n",
       "      <th>2</th>\n",
       "      <td>contact_id 4187 name Sofie Woods email sofie.woods@riviere.com</td>\n",
       "      <td>4187</td>\n",
       "    </tr>\n",
       "    <tr>\n",
       "      <th>3</th>\n",
       "      <td>contact_id 4941 name Jeanette Iannotti email jeanette.iannotti@yahoo.com</td>\n",
       "      <td>4941</td>\n",
       "    </tr>\n",
       "    <tr>\n",
       "      <th>4</th>\n",
       "      <td>contact_id 2199 name Samuel Sorgatz email samuel.sorgatz@gmail.com</td>\n",
       "      <td>2199</td>\n",
       "    </tr>\n",
       "  </tbody>\n",
       "</table>\n",
       "</div>"
      ],
      "text/plain": [
       "                                                               contact_info  \\\n",
       "0   contact_id 4661 name Cecilia Velasco email cecilia.velasco@rodrigues.fr   \n",
       "1          contact_id 3765 name Mariana Ellis email mariana.ellis@rossi.org   \n",
       "2            contact_id 4187 name Sofie Woods email sofie.woods@riviere.com   \n",
       "3  contact_id 4941 name Jeanette Iannotti email jeanette.iannotti@yahoo.com   \n",
       "4        contact_id 2199 name Samuel Sorgatz email samuel.sorgatz@gmail.com   \n",
       "\n",
       "  contact_id  \n",
       "0       4661  \n",
       "1       3765  \n",
       "2       4187  \n",
       "3       4941  \n",
       "4       2199  "
      ]
     },
     "execution_count": 15,
     "metadata": {},
     "output_type": "execute_result"
    }
   ],
   "source": [
    "#extract contact IDs\n",
    "contact['contact_id'] = contact['contact_info'].str.extract(r'(\\d{4})')\n",
    "contact.head()"
   ]
  },
  {
   "cell_type": "code",
   "execution_count": 17,
   "id": "b502ebeb",
   "metadata": {},
   "outputs": [
    {
     "data": {
      "text/plain": [
       "['Cecilia Velasco']"
      ]
     },
     "execution_count": 17,
     "metadata": {},
     "output_type": "execute_result"
    }
   ],
   "source": [
    "# Extract the first and last name after the word \"name\". \n",
    "name = re.findall(r'([^nameil\\s+][A-Za-z]+\\s+[A-Za-z]+)', string_data)\n",
    "name"
   ]
  },
  {
   "cell_type": "code",
   "execution_count": 19,
   "id": "72d4833d",
   "metadata": {},
   "outputs": [
    {
     "data": {
      "text/plain": [
       "['contact_id',\n",
       " '4661',\n",
       " 'name',\n",
       " 'Cecilia',\n",
       " 'Velasco',\n",
       " 'email',\n",
       " 'cecilia.velasco@rodrigues.fr']"
      ]
     },
     "execution_count": 19,
     "metadata": {},
     "output_type": "execute_result"
    }
   ],
   "source": [
    "# Extract the email address using a regular expression pattern. \n",
    "email_address = re.findall(r'(\\S+@\\S+)', string_data)\n",
    "email_address"
   ]
  },
  {
   "cell_type": "code",
   "execution_count": null,
   "id": "0502de0b",
   "metadata": {},
   "outputs": [],
   "source": []
  }
 ],
 "metadata": {
  "kernelspec": {
   "display_name": "Python 3 (ipykernel)",
   "language": "python",
   "name": "python3"
  },
  "language_info": {
   "codemirror_mode": {
    "name": "ipython",
    "version": 3
   },
   "file_extension": ".py",
   "mimetype": "text/x-python",
   "name": "python",
   "nbconvert_exporter": "python",
   "pygments_lexer": "ipython3",
   "version": "3.9.13"
  }
 },
 "nbformat": 4,
 "nbformat_minor": 5
}
